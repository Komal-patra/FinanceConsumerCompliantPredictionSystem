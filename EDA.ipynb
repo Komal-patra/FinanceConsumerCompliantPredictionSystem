{
 "cells": [
  {
   "cell_type": "code",
   "execution_count": 48,
   "metadata": {},
   "outputs": [],
   "source": [
    "import pandas as pd\n",
    "import matplotlib.pyplot as plt"
   ]
  },
  {
   "cell_type": "markdown",
   "metadata": {},
   "source": [
    "## Reading CSV File"
   ]
  },
  {
   "cell_type": "code",
   "execution_count": 29,
   "metadata": {},
   "outputs": [],
   "source": [
    "finance = pd.read_csv(\"complaints.csv\")"
   ]
  },
  {
   "cell_type": "code",
   "execution_count": 30,
   "metadata": {},
   "outputs": [
    {
     "data": {
      "text/html": [
       "<div>\n",
       "<style scoped>\n",
       "    .dataframe tbody tr th:only-of-type {\n",
       "        vertical-align: middle;\n",
       "    }\n",
       "\n",
       "    .dataframe tbody tr th {\n",
       "        vertical-align: top;\n",
       "    }\n",
       "\n",
       "    .dataframe thead th {\n",
       "        text-align: right;\n",
       "    }\n",
       "</style>\n",
       "<table border=\"1\" class=\"dataframe\">\n",
       "  <thead>\n",
       "    <tr style=\"text-align: right;\">\n",
       "      <th></th>\n",
       "      <th>Date received</th>\n",
       "      <th>Product</th>\n",
       "      <th>Sub-product</th>\n",
       "      <th>Issue</th>\n",
       "      <th>Sub-issue</th>\n",
       "      <th>Consumer complaint narrative</th>\n",
       "      <th>Company public response</th>\n",
       "      <th>Company</th>\n",
       "      <th>State</th>\n",
       "      <th>ZIP code</th>\n",
       "      <th>Tags</th>\n",
       "      <th>Consumer consent provided?</th>\n",
       "      <th>Submitted via</th>\n",
       "      <th>Date sent to company</th>\n",
       "      <th>Company response to consumer</th>\n",
       "      <th>Timely response?</th>\n",
       "      <th>Consumer disputed?</th>\n",
       "      <th>Complaint ID</th>\n",
       "    </tr>\n",
       "  </thead>\n",
       "  <tbody>\n",
       "    <tr>\n",
       "      <th>0</th>\n",
       "      <td>2024-08-14</td>\n",
       "      <td>Credit reporting or other personal consumer re...</td>\n",
       "      <td>Credit reporting</td>\n",
       "      <td>Incorrect information on your report</td>\n",
       "      <td>Account status incorrect</td>\n",
       "      <td>NaN</td>\n",
       "      <td>Company has responded to the consumer and the ...</td>\n",
       "      <td>TRANSUNION INTERMEDIATE HOLDINGS, INC.</td>\n",
       "      <td>PA</td>\n",
       "      <td>18109</td>\n",
       "      <td>NaN</td>\n",
       "      <td>Consent not provided</td>\n",
       "      <td>Web</td>\n",
       "      <td>2024-08-14</td>\n",
       "      <td>Closed with non-monetary relief</td>\n",
       "      <td>Yes</td>\n",
       "      <td>NaN</td>\n",
       "      <td>9801027</td>\n",
       "    </tr>\n",
       "    <tr>\n",
       "      <th>1</th>\n",
       "      <td>2024-08-07</td>\n",
       "      <td>Credit reporting or other personal consumer re...</td>\n",
       "      <td>Credit reporting</td>\n",
       "      <td>Incorrect information on your report</td>\n",
       "      <td>Information belongs to someone else</td>\n",
       "      <td>NaN</td>\n",
       "      <td>NaN</td>\n",
       "      <td>EQUIFAX, INC.</td>\n",
       "      <td>PA</td>\n",
       "      <td>17403</td>\n",
       "      <td>NaN</td>\n",
       "      <td>NaN</td>\n",
       "      <td>Web</td>\n",
       "      <td>2024-08-07</td>\n",
       "      <td>In progress</td>\n",
       "      <td>Yes</td>\n",
       "      <td>NaN</td>\n",
       "      <td>9736958</td>\n",
       "    </tr>\n",
       "    <tr>\n",
       "      <th>2</th>\n",
       "      <td>2024-09-18</td>\n",
       "      <td>Debt collection</td>\n",
       "      <td>I do not know</td>\n",
       "      <td>Attempts to collect debt not owed</td>\n",
       "      <td>Debt is not yours</td>\n",
       "      <td>NaN</td>\n",
       "      <td>NaN</td>\n",
       "      <td>TRANSUNION INTERMEDIATE HOLDINGS, INC.</td>\n",
       "      <td>NY</td>\n",
       "      <td>12601</td>\n",
       "      <td>NaN</td>\n",
       "      <td>NaN</td>\n",
       "      <td>Web</td>\n",
       "      <td>2024-09-18</td>\n",
       "      <td>In progress</td>\n",
       "      <td>Yes</td>\n",
       "      <td>NaN</td>\n",
       "      <td>10157378</td>\n",
       "    </tr>\n",
       "    <tr>\n",
       "      <th>3</th>\n",
       "      <td>2024-09-03</td>\n",
       "      <td>Debt collection</td>\n",
       "      <td>Credit card debt</td>\n",
       "      <td>Threatened to contact someone or share informa...</td>\n",
       "      <td>Contacted you after you asked them to stop</td>\n",
       "      <td>NaN</td>\n",
       "      <td>NaN</td>\n",
       "      <td>Affirm Holdings, Inc</td>\n",
       "      <td>NC</td>\n",
       "      <td>28540</td>\n",
       "      <td>Servicemember</td>\n",
       "      <td>NaN</td>\n",
       "      <td>Web</td>\n",
       "      <td>2024-09-03</td>\n",
       "      <td>Closed with explanation</td>\n",
       "      <td>Yes</td>\n",
       "      <td>NaN</td>\n",
       "      <td>10005302</td>\n",
       "    </tr>\n",
       "    <tr>\n",
       "      <th>4</th>\n",
       "      <td>2024-07-21</td>\n",
       "      <td>Credit reporting or other personal consumer re...</td>\n",
       "      <td>Credit reporting</td>\n",
       "      <td>Incorrect information on your report</td>\n",
       "      <td>Information belongs to someone else</td>\n",
       "      <td>NaN</td>\n",
       "      <td>NaN</td>\n",
       "      <td>Experian Information Solutions Inc.</td>\n",
       "      <td>NV</td>\n",
       "      <td>89103</td>\n",
       "      <td>NaN</td>\n",
       "      <td>Consent not provided</td>\n",
       "      <td>Web</td>\n",
       "      <td>2024-07-21</td>\n",
       "      <td>In progress</td>\n",
       "      <td>Yes</td>\n",
       "      <td>NaN</td>\n",
       "      <td>9574052</td>\n",
       "    </tr>\n",
       "  </tbody>\n",
       "</table>\n",
       "</div>"
      ],
      "text/plain": [
       "  Date received                                            Product  \\\n",
       "0    2024-08-14  Credit reporting or other personal consumer re...   \n",
       "1    2024-08-07  Credit reporting or other personal consumer re...   \n",
       "2    2024-09-18                                    Debt collection   \n",
       "3    2024-09-03                                    Debt collection   \n",
       "4    2024-07-21  Credit reporting or other personal consumer re...   \n",
       "\n",
       "        Sub-product                                              Issue  \\\n",
       "0  Credit reporting               Incorrect information on your report   \n",
       "1  Credit reporting               Incorrect information on your report   \n",
       "2     I do not know                  Attempts to collect debt not owed   \n",
       "3  Credit card debt  Threatened to contact someone or share informa...   \n",
       "4  Credit reporting               Incorrect information on your report   \n",
       "\n",
       "                                    Sub-issue Consumer complaint narrative  \\\n",
       "0                    Account status incorrect                          NaN   \n",
       "1         Information belongs to someone else                          NaN   \n",
       "2                           Debt is not yours                          NaN   \n",
       "3  Contacted you after you asked them to stop                          NaN   \n",
       "4         Information belongs to someone else                          NaN   \n",
       "\n",
       "                             Company public response  \\\n",
       "0  Company has responded to the consumer and the ...   \n",
       "1                                                NaN   \n",
       "2                                                NaN   \n",
       "3                                                NaN   \n",
       "4                                                NaN   \n",
       "\n",
       "                                  Company State ZIP code           Tags  \\\n",
       "0  TRANSUNION INTERMEDIATE HOLDINGS, INC.    PA    18109            NaN   \n",
       "1                           EQUIFAX, INC.    PA    17403            NaN   \n",
       "2  TRANSUNION INTERMEDIATE HOLDINGS, INC.    NY    12601            NaN   \n",
       "3                    Affirm Holdings, Inc    NC    28540  Servicemember   \n",
       "4     Experian Information Solutions Inc.    NV    89103            NaN   \n",
       "\n",
       "  Consumer consent provided? Submitted via Date sent to company  \\\n",
       "0       Consent not provided           Web           2024-08-14   \n",
       "1                        NaN           Web           2024-08-07   \n",
       "2                        NaN           Web           2024-09-18   \n",
       "3                        NaN           Web           2024-09-03   \n",
       "4       Consent not provided           Web           2024-07-21   \n",
       "\n",
       "      Company response to consumer Timely response? Consumer disputed?  \\\n",
       "0  Closed with non-monetary relief              Yes                NaN   \n",
       "1                      In progress              Yes                NaN   \n",
       "2                      In progress              Yes                NaN   \n",
       "3          Closed with explanation              Yes                NaN   \n",
       "4                      In progress              Yes                NaN   \n",
       "\n",
       "   Complaint ID  \n",
       "0       9801027  \n",
       "1       9736958  \n",
       "2      10157378  \n",
       "3      10005302  \n",
       "4       9574052  "
      ]
     },
     "execution_count": 30,
     "metadata": {},
     "output_type": "execute_result"
    }
   ],
   "source": [
    "finance.head(5)"
   ]
  },
  {
   "cell_type": "markdown",
   "metadata": {},
   "source": [
    "## Unique Values of Target Columns"
   ]
  },
  {
   "cell_type": "code",
   "execution_count": 31,
   "metadata": {},
   "outputs": [
    {
     "data": {
      "text/plain": [
       "Index(['Date received', 'Product', 'Sub-product', 'Issue', 'Sub-issue',\n",
       "       'Consumer complaint narrative', 'Company public response', 'Company',\n",
       "       'State', 'ZIP code', 'Tags', 'Consumer consent provided?',\n",
       "       'Submitted via', 'Date sent to company', 'Company response to consumer',\n",
       "       'Timely response?', 'Consumer disputed?', 'Complaint ID'],\n",
       "      dtype='object')"
      ]
     },
     "execution_count": 31,
     "metadata": {},
     "output_type": "execute_result"
    }
   ],
   "source": [
    "finance.columns"
   ]
  },
  {
   "cell_type": "code",
   "execution_count": 32,
   "metadata": {},
   "outputs": [
    {
     "data": {
      "text/plain": [
       "Consumer disputed?\n",
       "No     619938\n",
       "Yes    148378\n",
       "Name: count, dtype: int64"
      ]
     },
     "execution_count": 32,
     "metadata": {},
     "output_type": "execute_result"
    }
   ],
   "source": [
    "finance['Consumer disputed?'].value_counts()"
   ]
  },
  {
   "cell_type": "markdown",
   "metadata": {},
   "source": [
    "Consumer Dispute in Percentage:"
   ]
  },
  {
   "cell_type": "code",
   "execution_count": 33,
   "metadata": {},
   "outputs": [
    {
     "data": {
      "text/plain": [
       "Consumer disputed?\n",
       "No     80.687894\n",
       "Yes    19.312106\n",
       "Name: proportion, dtype: float64"
      ]
     },
     "execution_count": 33,
     "metadata": {},
     "output_type": "execute_result"
    }
   ],
   "source": [
    "finance['Consumer disputed?'].value_counts(normalize=True)*100"
   ]
  },
  {
   "cell_type": "markdown",
   "metadata": {},
   "source": [
    "## Info of the data "
   ]
  },
  {
   "cell_type": "code",
   "execution_count": 34,
   "metadata": {},
   "outputs": [
    {
     "name": "stdout",
     "output_type": "stream",
     "text": [
      "<class 'pandas.core.frame.DataFrame'>\n",
      "RangeIndex: 6197930 entries, 0 to 6197929\n",
      "Data columns (total 18 columns):\n",
      " #   Column                        Dtype \n",
      "---  ------                        ----- \n",
      " 0   Date received                 object\n",
      " 1   Product                       object\n",
      " 2   Sub-product                   object\n",
      " 3   Issue                         object\n",
      " 4   Sub-issue                     object\n",
      " 5   Consumer complaint narrative  object\n",
      " 6   Company public response       object\n",
      " 7   Company                       object\n",
      " 8   State                         object\n",
      " 9   ZIP code                      object\n",
      " 10  Tags                          object\n",
      " 11  Consumer consent provided?    object\n",
      " 12  Submitted via                 object\n",
      " 13  Date sent to company          object\n",
      " 14  Company response to consumer  object\n",
      " 15  Timely response?              object\n",
      " 16  Consumer disputed?            object\n",
      " 17  Complaint ID                  int64 \n",
      "dtypes: int64(1), object(17)\n",
      "memory usage: 851.2+ MB\n"
     ]
    }
   ],
   "source": [
    "finance.info()"
   ]
  },
  {
   "cell_type": "markdown",
   "metadata": {},
   "source": [
    "there is no numerical feature as all the datatypes are object."
   ]
  },
  {
   "cell_type": "markdown",
   "metadata": {},
   "source": [
    "## Exploring the Data"
   ]
  },
  {
   "cell_type": "markdown",
   "metadata": {},
   "source": [
    "#### checking the null values"
   ]
  },
  {
   "cell_type": "code",
   "execution_count": 35,
   "metadata": {},
   "outputs": [],
   "source": [
    "missing = finance.isnull().sum()"
   ]
  },
  {
   "cell_type": "code",
   "execution_count": 36,
   "metadata": {},
   "outputs": [
    {
     "data": {
      "text/plain": [
       "Date received                         0\n",
       "Product                               0\n",
       "Sub-product                      235295\n",
       "Issue                                 6\n",
       "Sub-issue                        748588\n",
       "Consumer complaint narrative    4074742\n",
       "Company public response         3185323\n",
       "Company                               0\n",
       "State                             47790\n",
       "ZIP code                          30227\n",
       "Tags                            5675299\n",
       "Consumer consent provided?      1153059\n",
       "Submitted via                         0\n",
       "Date sent to company                  0\n",
       "Company response to consumer         20\n",
       "Timely response?                      0\n",
       "Consumer disputed?              5429614\n",
       "Complaint ID                          0\n",
       "dtype: int64"
      ]
     },
     "execution_count": 36,
     "metadata": {},
     "output_type": "execute_result"
    }
   ],
   "source": [
    "missing"
   ]
  },
  {
   "cell_type": "code",
   "execution_count": 37,
   "metadata": {},
   "outputs": [],
   "source": [
    "missing = finance.isnull().sum().div(finance.shape[0]).mul(100).to_frame().sort_values(by=0, ascending=False)"
   ]
  },
  {
   "cell_type": "code",
   "execution_count": 38,
   "metadata": {},
   "outputs": [
    {
     "data": {
      "text/html": [
       "<div>\n",
       "<style scoped>\n",
       "    .dataframe tbody tr th:only-of-type {\n",
       "        vertical-align: middle;\n",
       "    }\n",
       "\n",
       "    .dataframe tbody tr th {\n",
       "        vertical-align: top;\n",
       "    }\n",
       "\n",
       "    .dataframe thead th {\n",
       "        text-align: right;\n",
       "    }\n",
       "</style>\n",
       "<table border=\"1\" class=\"dataframe\">\n",
       "  <thead>\n",
       "    <tr style=\"text-align: right;\">\n",
       "      <th></th>\n",
       "      <th>0</th>\n",
       "    </tr>\n",
       "  </thead>\n",
       "  <tbody>\n",
       "    <tr>\n",
       "      <th>Tags</th>\n",
       "      <td>91.567652</td>\n",
       "    </tr>\n",
       "    <tr>\n",
       "      <th>Consumer disputed?</th>\n",
       "      <td>87.603668</td>\n",
       "    </tr>\n",
       "    <tr>\n",
       "      <th>Consumer complaint narrative</th>\n",
       "      <td>65.743595</td>\n",
       "    </tr>\n",
       "    <tr>\n",
       "      <th>Company public response</th>\n",
       "      <td>51.393336</td>\n",
       "    </tr>\n",
       "    <tr>\n",
       "      <th>Consumer consent provided?</th>\n",
       "      <td>18.603937</td>\n",
       "    </tr>\n",
       "    <tr>\n",
       "      <th>Sub-issue</th>\n",
       "      <td>12.078033</td>\n",
       "    </tr>\n",
       "    <tr>\n",
       "      <th>Sub-product</th>\n",
       "      <td>3.796348</td>\n",
       "    </tr>\n",
       "    <tr>\n",
       "      <th>State</th>\n",
       "      <td>0.771064</td>\n",
       "    </tr>\n",
       "    <tr>\n",
       "      <th>ZIP code</th>\n",
       "      <td>0.487695</td>\n",
       "    </tr>\n",
       "    <tr>\n",
       "      <th>Company response to consumer</th>\n",
       "      <td>0.000323</td>\n",
       "    </tr>\n",
       "    <tr>\n",
       "      <th>Issue</th>\n",
       "      <td>0.000097</td>\n",
       "    </tr>\n",
       "    <tr>\n",
       "      <th>Date sent to company</th>\n",
       "      <td>0.000000</td>\n",
       "    </tr>\n",
       "    <tr>\n",
       "      <th>Timely response?</th>\n",
       "      <td>0.000000</td>\n",
       "    </tr>\n",
       "    <tr>\n",
       "      <th>Date received</th>\n",
       "      <td>0.000000</td>\n",
       "    </tr>\n",
       "    <tr>\n",
       "      <th>Submitted via</th>\n",
       "      <td>0.000000</td>\n",
       "    </tr>\n",
       "    <tr>\n",
       "      <th>Product</th>\n",
       "      <td>0.000000</td>\n",
       "    </tr>\n",
       "    <tr>\n",
       "      <th>Company</th>\n",
       "      <td>0.000000</td>\n",
       "    </tr>\n",
       "    <tr>\n",
       "      <th>Complaint ID</th>\n",
       "      <td>0.000000</td>\n",
       "    </tr>\n",
       "  </tbody>\n",
       "</table>\n",
       "</div>"
      ],
      "text/plain": [
       "                                      0\n",
       "Tags                          91.567652\n",
       "Consumer disputed?            87.603668\n",
       "Consumer complaint narrative  65.743595\n",
       "Company public response       51.393336\n",
       "Consumer consent provided?    18.603937\n",
       "Sub-issue                     12.078033\n",
       "Sub-product                    3.796348\n",
       "State                          0.771064\n",
       "ZIP code                       0.487695\n",
       "Company response to consumer   0.000323\n",
       "Issue                          0.000097\n",
       "Date sent to company           0.000000\n",
       "Timely response?               0.000000\n",
       "Date received                  0.000000\n",
       "Submitted via                  0.000000\n",
       "Product                        0.000000\n",
       "Company                        0.000000\n",
       "Complaint ID                   0.000000"
      ]
     },
     "execution_count": 38,
     "metadata": {},
     "output_type": "execute_result"
    }
   ],
   "source": [
    "missing"
   ]
  },
  {
   "cell_type": "code",
   "execution_count": 39,
   "metadata": {},
   "outputs": [],
   "source": [
    "drop_columns = ['Tags','Consumer complaint narrative','Company public response','Sub-issue','Sub-product']"
   ]
  },
  {
   "cell_type": "code",
   "execution_count": 40,
   "metadata": {},
   "outputs": [],
   "source": [
    "finance.drop(drop_columns, axis=1, inplace=True)"
   ]
  },
  {
   "cell_type": "code",
   "execution_count": 41,
   "metadata": {},
   "outputs": [
    {
     "data": {
      "text/html": [
       "<div>\n",
       "<style scoped>\n",
       "    .dataframe tbody tr th:only-of-type {\n",
       "        vertical-align: middle;\n",
       "    }\n",
       "\n",
       "    .dataframe tbody tr th {\n",
       "        vertical-align: top;\n",
       "    }\n",
       "\n",
       "    .dataframe thead th {\n",
       "        text-align: right;\n",
       "    }\n",
       "</style>\n",
       "<table border=\"1\" class=\"dataframe\">\n",
       "  <thead>\n",
       "    <tr style=\"text-align: right;\">\n",
       "      <th></th>\n",
       "      <th>Date received</th>\n",
       "      <th>Product</th>\n",
       "      <th>Issue</th>\n",
       "      <th>Company</th>\n",
       "      <th>State</th>\n",
       "      <th>ZIP code</th>\n",
       "      <th>Consumer consent provided?</th>\n",
       "      <th>Submitted via</th>\n",
       "      <th>Date sent to company</th>\n",
       "      <th>Company response to consumer</th>\n",
       "      <th>Timely response?</th>\n",
       "      <th>Consumer disputed?</th>\n",
       "      <th>Complaint ID</th>\n",
       "    </tr>\n",
       "  </thead>\n",
       "  <tbody>\n",
       "    <tr>\n",
       "      <th>0</th>\n",
       "      <td>2024-08-14</td>\n",
       "      <td>Credit reporting or other personal consumer re...</td>\n",
       "      <td>Incorrect information on your report</td>\n",
       "      <td>TRANSUNION INTERMEDIATE HOLDINGS, INC.</td>\n",
       "      <td>PA</td>\n",
       "      <td>18109</td>\n",
       "      <td>Consent not provided</td>\n",
       "      <td>Web</td>\n",
       "      <td>2024-08-14</td>\n",
       "      <td>Closed with non-monetary relief</td>\n",
       "      <td>Yes</td>\n",
       "      <td>NaN</td>\n",
       "      <td>9801027</td>\n",
       "    </tr>\n",
       "    <tr>\n",
       "      <th>1</th>\n",
       "      <td>2024-08-07</td>\n",
       "      <td>Credit reporting or other personal consumer re...</td>\n",
       "      <td>Incorrect information on your report</td>\n",
       "      <td>EQUIFAX, INC.</td>\n",
       "      <td>PA</td>\n",
       "      <td>17403</td>\n",
       "      <td>NaN</td>\n",
       "      <td>Web</td>\n",
       "      <td>2024-08-07</td>\n",
       "      <td>In progress</td>\n",
       "      <td>Yes</td>\n",
       "      <td>NaN</td>\n",
       "      <td>9736958</td>\n",
       "    </tr>\n",
       "    <tr>\n",
       "      <th>2</th>\n",
       "      <td>2024-09-18</td>\n",
       "      <td>Debt collection</td>\n",
       "      <td>Attempts to collect debt not owed</td>\n",
       "      <td>TRANSUNION INTERMEDIATE HOLDINGS, INC.</td>\n",
       "      <td>NY</td>\n",
       "      <td>12601</td>\n",
       "      <td>NaN</td>\n",
       "      <td>Web</td>\n",
       "      <td>2024-09-18</td>\n",
       "      <td>In progress</td>\n",
       "      <td>Yes</td>\n",
       "      <td>NaN</td>\n",
       "      <td>10157378</td>\n",
       "    </tr>\n",
       "    <tr>\n",
       "      <th>3</th>\n",
       "      <td>2024-09-03</td>\n",
       "      <td>Debt collection</td>\n",
       "      <td>Threatened to contact someone or share informa...</td>\n",
       "      <td>Affirm Holdings, Inc</td>\n",
       "      <td>NC</td>\n",
       "      <td>28540</td>\n",
       "      <td>NaN</td>\n",
       "      <td>Web</td>\n",
       "      <td>2024-09-03</td>\n",
       "      <td>Closed with explanation</td>\n",
       "      <td>Yes</td>\n",
       "      <td>NaN</td>\n",
       "      <td>10005302</td>\n",
       "    </tr>\n",
       "    <tr>\n",
       "      <th>4</th>\n",
       "      <td>2024-07-21</td>\n",
       "      <td>Credit reporting or other personal consumer re...</td>\n",
       "      <td>Incorrect information on your report</td>\n",
       "      <td>Experian Information Solutions Inc.</td>\n",
       "      <td>NV</td>\n",
       "      <td>89103</td>\n",
       "      <td>Consent not provided</td>\n",
       "      <td>Web</td>\n",
       "      <td>2024-07-21</td>\n",
       "      <td>In progress</td>\n",
       "      <td>Yes</td>\n",
       "      <td>NaN</td>\n",
       "      <td>9574052</td>\n",
       "    </tr>\n",
       "    <tr>\n",
       "      <th>...</th>\n",
       "      <td>...</td>\n",
       "      <td>...</td>\n",
       "      <td>...</td>\n",
       "      <td>...</td>\n",
       "      <td>...</td>\n",
       "      <td>...</td>\n",
       "      <td>...</td>\n",
       "      <td>...</td>\n",
       "      <td>...</td>\n",
       "      <td>...</td>\n",
       "      <td>...</td>\n",
       "      <td>...</td>\n",
       "      <td>...</td>\n",
       "    </tr>\n",
       "    <tr>\n",
       "      <th>6197925</th>\n",
       "      <td>2022-08-19</td>\n",
       "      <td>Credit reporting, credit repair services, or o...</td>\n",
       "      <td>Incorrect information on your report</td>\n",
       "      <td>EQUIFAX, INC.</td>\n",
       "      <td>CA</td>\n",
       "      <td>90630</td>\n",
       "      <td>Consent provided</td>\n",
       "      <td>Web</td>\n",
       "      <td>2022-08-19</td>\n",
       "      <td>Closed with explanation</td>\n",
       "      <td>Yes</td>\n",
       "      <td>NaN</td>\n",
       "      <td>5891592</td>\n",
       "    </tr>\n",
       "    <tr>\n",
       "      <th>6197926</th>\n",
       "      <td>2022-08-19</td>\n",
       "      <td>Credit reporting, credit repair services, or o...</td>\n",
       "      <td>Incorrect information on your report</td>\n",
       "      <td>TRANSUNION INTERMEDIATE HOLDINGS, INC.</td>\n",
       "      <td>CA</td>\n",
       "      <td>90630</td>\n",
       "      <td>Consent provided</td>\n",
       "      <td>Web</td>\n",
       "      <td>2022-08-19</td>\n",
       "      <td>Closed with non-monetary relief</td>\n",
       "      <td>Yes</td>\n",
       "      <td>NaN</td>\n",
       "      <td>5891593</td>\n",
       "    </tr>\n",
       "    <tr>\n",
       "      <th>6197927</th>\n",
       "      <td>2016-09-08</td>\n",
       "      <td>Credit reporting</td>\n",
       "      <td>Unable to get credit report/credit score</td>\n",
       "      <td>EQUIFAX, INC.</td>\n",
       "      <td>FL</td>\n",
       "      <td>32853</td>\n",
       "      <td>Consent not provided</td>\n",
       "      <td>Web</td>\n",
       "      <td>2016-09-08</td>\n",
       "      <td>Closed with explanation</td>\n",
       "      <td>Yes</td>\n",
       "      <td>Yes</td>\n",
       "      <td>2102374</td>\n",
       "    </tr>\n",
       "    <tr>\n",
       "      <th>6197928</th>\n",
       "      <td>2022-06-06</td>\n",
       "      <td>Credit reporting, credit repair services, or o...</td>\n",
       "      <td>Problem with a credit reporting company's inve...</td>\n",
       "      <td>EQUIFAX, INC.</td>\n",
       "      <td>CA</td>\n",
       "      <td>93638</td>\n",
       "      <td>Consent not provided</td>\n",
       "      <td>Web</td>\n",
       "      <td>2022-06-06</td>\n",
       "      <td>Closed with explanation</td>\n",
       "      <td>Yes</td>\n",
       "      <td>NaN</td>\n",
       "      <td>5637858</td>\n",
       "    </tr>\n",
       "    <tr>\n",
       "      <th>6197929</th>\n",
       "      <td>2016-10-18</td>\n",
       "      <td>Credit reporting</td>\n",
       "      <td>Incorrect information on credit report</td>\n",
       "      <td>EQUIFAX, INC.</td>\n",
       "      <td>TX</td>\n",
       "      <td>75803</td>\n",
       "      <td>NaN</td>\n",
       "      <td>Postal mail</td>\n",
       "      <td>2016-10-21</td>\n",
       "      <td>Closed with explanation</td>\n",
       "      <td>Yes</td>\n",
       "      <td>No</td>\n",
       "      <td>2166396</td>\n",
       "    </tr>\n",
       "  </tbody>\n",
       "</table>\n",
       "<p>6197930 rows × 13 columns</p>\n",
       "</div>"
      ],
      "text/plain": [
       "        Date received                                            Product  \\\n",
       "0          2024-08-14  Credit reporting or other personal consumer re...   \n",
       "1          2024-08-07  Credit reporting or other personal consumer re...   \n",
       "2          2024-09-18                                    Debt collection   \n",
       "3          2024-09-03                                    Debt collection   \n",
       "4          2024-07-21  Credit reporting or other personal consumer re...   \n",
       "...               ...                                                ...   \n",
       "6197925    2022-08-19  Credit reporting, credit repair services, or o...   \n",
       "6197926    2022-08-19  Credit reporting, credit repair services, or o...   \n",
       "6197927    2016-09-08                                   Credit reporting   \n",
       "6197928    2022-06-06  Credit reporting, credit repair services, or o...   \n",
       "6197929    2016-10-18                                   Credit reporting   \n",
       "\n",
       "                                                     Issue  \\\n",
       "0                     Incorrect information on your report   \n",
       "1                     Incorrect information on your report   \n",
       "2                        Attempts to collect debt not owed   \n",
       "3        Threatened to contact someone or share informa...   \n",
       "4                     Incorrect information on your report   \n",
       "...                                                    ...   \n",
       "6197925               Incorrect information on your report   \n",
       "6197926               Incorrect information on your report   \n",
       "6197927           Unable to get credit report/credit score   \n",
       "6197928  Problem with a credit reporting company's inve...   \n",
       "6197929             Incorrect information on credit report   \n",
       "\n",
       "                                        Company State ZIP code  \\\n",
       "0        TRANSUNION INTERMEDIATE HOLDINGS, INC.    PA    18109   \n",
       "1                                 EQUIFAX, INC.    PA    17403   \n",
       "2        TRANSUNION INTERMEDIATE HOLDINGS, INC.    NY    12601   \n",
       "3                          Affirm Holdings, Inc    NC    28540   \n",
       "4           Experian Information Solutions Inc.    NV    89103   \n",
       "...                                         ...   ...      ...   \n",
       "6197925                           EQUIFAX, INC.    CA    90630   \n",
       "6197926  TRANSUNION INTERMEDIATE HOLDINGS, INC.    CA    90630   \n",
       "6197927                           EQUIFAX, INC.    FL    32853   \n",
       "6197928                           EQUIFAX, INC.    CA    93638   \n",
       "6197929                           EQUIFAX, INC.    TX    75803   \n",
       "\n",
       "        Consumer consent provided? Submitted via Date sent to company  \\\n",
       "0             Consent not provided           Web           2024-08-14   \n",
       "1                              NaN           Web           2024-08-07   \n",
       "2                              NaN           Web           2024-09-18   \n",
       "3                              NaN           Web           2024-09-03   \n",
       "4             Consent not provided           Web           2024-07-21   \n",
       "...                            ...           ...                  ...   \n",
       "6197925           Consent provided           Web           2022-08-19   \n",
       "6197926           Consent provided           Web           2022-08-19   \n",
       "6197927       Consent not provided           Web           2016-09-08   \n",
       "6197928       Consent not provided           Web           2022-06-06   \n",
       "6197929                        NaN   Postal mail           2016-10-21   \n",
       "\n",
       "            Company response to consumer Timely response? Consumer disputed?  \\\n",
       "0        Closed with non-monetary relief              Yes                NaN   \n",
       "1                            In progress              Yes                NaN   \n",
       "2                            In progress              Yes                NaN   \n",
       "3                Closed with explanation              Yes                NaN   \n",
       "4                            In progress              Yes                NaN   \n",
       "...                                  ...              ...                ...   \n",
       "6197925          Closed with explanation              Yes                NaN   \n",
       "6197926  Closed with non-monetary relief              Yes                NaN   \n",
       "6197927          Closed with explanation              Yes                Yes   \n",
       "6197928          Closed with explanation              Yes                NaN   \n",
       "6197929          Closed with explanation              Yes                 No   \n",
       "\n",
       "         Complaint ID  \n",
       "0             9801027  \n",
       "1             9736958  \n",
       "2            10157378  \n",
       "3            10005302  \n",
       "4             9574052  \n",
       "...               ...  \n",
       "6197925       5891592  \n",
       "6197926       5891593  \n",
       "6197927       2102374  \n",
       "6197928       5637858  \n",
       "6197929       2166396  \n",
       "\n",
       "[6197930 rows x 13 columns]"
      ]
     },
     "execution_count": 41,
     "metadata": {},
     "output_type": "execute_result"
    }
   ],
   "source": [
    "finance"
   ]
  },
  {
   "cell_type": "markdown",
   "metadata": {},
   "source": [
    "#### Number of unique values in each column"
   ]
  },
  {
   "cell_type": "code",
   "execution_count": 43,
   "metadata": {},
   "outputs": [
    {
     "name": "stdout",
     "output_type": "stream",
     "text": [
      "Date received 4677\n",
      "Product 21\n",
      "Issue 178\n",
      "Company 7366\n",
      "State 63\n",
      "ZIP code 33981\n",
      "Consumer consent provided? 4\n",
      "Submitted via 7\n",
      "Date sent to company 4626\n",
      "Company response to consumer 8\n",
      "Timely response? 2\n",
      "Consumer disputed? 2\n",
      "Complaint ID 6197930\n"
     ]
    }
   ],
   "source": [
    "for col in finance.columns:\n",
    "    print(col, finance[col].nunique())"
   ]
  },
  {
   "cell_type": "markdown",
   "metadata": {},
   "source": [
    "## Visualisation"
   ]
  },
  {
   "cell_type": "markdown",
   "metadata": {},
   "source": [
    "##### Target Feature"
   ]
  },
  {
   "cell_type": "code",
   "execution_count": 49,
   "metadata": {},
   "outputs": [],
   "source": [
    "percentage = finance['Consumer disputed?'].value_counts(normalize=True)*100\n",
    "label= [\"No\", \"Yes\"]"
   ]
  },
  {
   "cell_type": "code",
   "execution_count": 51,
   "metadata": {},
   "outputs": [
    {
     "data": {
      "text/plain": [
       "([<matplotlib.patches.Wedge at 0x21e03a72ac0>,\n",
       "  <matplotlib.patches.Wedge at 0x21e03a72a30>],\n",
       " [Text(-0.6271822945771851, -0.9036826707251263, 'No'),\n",
       "  Text(0.6841987745108777, 0.9858357048503636, 'Yes')],\n",
       " [Text(-0.3420994334057373, -0.4929178203955234, '80.69%'),\n",
       "  Text(0.399115951798012, 0.5750708278293787, '19.31%')])"
      ]
     },
     "execution_count": 51,
     "metadata": {},
     "output_type": "execute_result"
    },
    {
     "data": {
      "image/png": "[encoded data removed]",
      "text/plain": [
       "<Figure size 1500x800 with 1 Axes>"
      ]
     },
     "metadata": {},
     "output_type": "display_data"
    }
   ],
   "source": [
    "fig, ax = plt.subplots(figsize = (15,8))\n",
    "explode = (0,0.1)\n",
    "colors = ['#e63a2a', '#1188ff']\n",
    "ax.pie(percentage, labels = label, startangle =90,\n",
    "       autopct='%1.2f%%', explode=explode, shadow=True, colors=colors)"
   ]
  },
  {
   "cell_type": "markdown",
   "metadata": {},
   "source": [
    "It looks like an imbalanced Data."
   ]
  },
  {
   "cell_type": "code",
   "execution_count": null,
   "metadata": {},
   "outputs": [],
   "source": []
  }
 ],
 "metadata": {
  "kernelspec": {
   "display_name": "Python 3",
   "language": "python",
   "name": "python3"
  },
  "language_info": {
   "codemirror_mode": {
    "name": "ipython",
    "version": 3
   },
   "file_extension": ".py",
   "mimetype": "text/x-python",
   "name": "python",
   "nbconvert_exporter": "python",
   "pygments_lexer": "ipython3",
   "version": "3.8.0"
  }
 },
 "nbformat": 4,
 "nbformat_minor": 2
}
